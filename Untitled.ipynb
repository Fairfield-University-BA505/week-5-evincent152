{
 "cells": [
  {
   "cell_type": "markdown",
   "metadata": {},
   "source": [
    "## Q1. Coding Problem\n",
    "\n",
    "Write a function `sub_reddit` to retrieve the title of the sub reddit from the URL.\n",
    "\n",
    "Example input and output:\n",
    "```\n",
    "sub_reddit(\"https://www.reddit.com/r/funny/\") ➞ \"funny\"\n",
    "\n",
    "sub_reddit(\"https://www.reddit.com/r/relationships/\") ➞ \"relationships\"\n",
    "\n",
    "sub_reddit(\"https://www.reddit.com/r/mildlyinteresting/\") ➞ \"mildlyinteresting\"\n",
    "```\n",
    "\n",
    "__HINT:__ notice what is before the sub reddit in the URLs in common? You might want to embed a test to ensure the pattern exists."
   ]
  }
 ],
 "metadata": {
  "kernelspec": {
   "display_name": "Python 3",
   "language": "python",
   "name": "python3"
  },
  "language_info": {
   "codemirror_mode": {
    "name": "ipython",
    "version": 3
   },
   "file_extension": ".py",
   "mimetype": "text/x-python",
   "name": "python",
   "nbconvert_exporter": "python",
   "pygments_lexer": "ipython3",
   "version": "3.6.7"
  }
 },
 "nbformat": 4,
 "nbformat_minor": 2
}
